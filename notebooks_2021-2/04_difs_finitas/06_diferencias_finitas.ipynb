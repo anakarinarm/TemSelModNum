{
 "cells": [
  {
   "cell_type": "markdown",
   "metadata": {},
   "source": [
    "## Clase 06 - Cálculo de la divergencia \n",
    "\n",
    "**Temas Selectos de Modelación Numérica** <br>\n",
    "Facultad de Ciencias, UNAM <br>\n",
    "Semestre 2021-2\n",
    "\n",
    "En este notebook calcularemos la divergencia de un campo de velocidades de viento. Estos vientos son salidas de una configuración regional del ... del modelo [WRF](https://www.mmm.ucar.edu/weather-research-and-forecasting-model).\n",
    "\n",
    "No olvides resolver los ejercicios de tarea al final del notebook. Entrega tu solución en un notebook en la carpeta de Classroom con el nombre `apellido_nombre_tarea06.ipynb`."
   ]
  },
  {
   "cell_type": "code",
   "execution_count": 1,
   "metadata": {},
   "outputs": [],
   "source": [
    "from netCDF4 import Dataset\n",
    "import cmocean as cmo\n",
    "import matplotlib.pyplot as plt\n",
    "%matplotlib inline\n",
    "import numpy as np"
   ]
  },
  {
   "cell_type": "code",
   "execution_count": null,
   "metadata": {},
   "outputs": [],
   "source": [
    "arch = '/home2/Documentos_Ovel/Clases_Jorge/2017_1/wrfout_d01_2012-08-07_00.nc'\n",
    "\n",
    "arch"
   ]
  },
  {
   "cell_type": "code",
   "execution_count": null,
   "metadata": {},
   "outputs": [],
   "source": [
    "with Dataset(arch, 'r') as nbl:\n",
    "    XLAT  = nbl.variables['XLAT'],[1,1,1],[inf,inf,1],[1,1,1]);\n",
    "XLONG = ncread(Arch,'XLONG',[1,1,1],[inf,inf,1],[1,1,1]);\n",
    "Xmin = min(min(XLONG));\n",
    "Xmax = max(max(XLONG));\n",
    "Ymin = min(min(XLAT));\n",
    "Ymax = max(max(XLAT));\n",
    "XLAT_U  = ncread(Arch,'XLAT_U',[1,1,1],[inf,inf,1],[1,1,1]);\n",
    "XLONG_U = ncread(Arch,'XLONG_U',[1,1,1],[inf,inf,1],[1,1,1]);\n",
    "XLAT_V  = ncread(Arch,'XLAT_V',[1,1,1],[inf,inf,1],[1,1,1]);\n",
    "XLONG_V = ncread(Arch,'XLONG_V',[1,1,1],[inf,inf,1],[1,1,1]);\n",
    "\n",
    "figure(1),clf\n",
    "plot(XLONG,XLAT,'og')\n",
    "hold on\n",
    "plot(XLONG_U,XLAT_U,'xb')\n",
    "plot(XLONG_V,XLAT_V,'+r')\n",
    "\n",
    "U = squeeze(ncread(Arch,'U',[1,1,3,1],[inf,inf,1,inf],[1,1,1,1])); \n",
    "V = squeeze(ncread(Arch,'V',[1,1,3,1],[inf,inf,1,inf],[1,1,1,1])); \n",
    "\n",
    "[m, n] = size(XLAT);\n",
    "[~, ~, t] = size(U);\n",
    "t = size(U,3);\n",
    "\n",
    "Div = zeros(m,n);\n",
    "R = 6371000;\n",
    "for T=1:t\n",
    "    for I=1:m\n",
    "        for J=1:n\n",
    "            DY=R*(XLAT_V(I,J+1)-XLAT_V(I,J))*(pi/180);\n",
    "            DX=R*(XLONG_U(I+1,J)-XLONG_U(I,J))*(pi/180)*cosd(XLAT(I,J));\n",
    "            Div(I,J)=(U(I+1,J,T)-U(I,J,T))/DX + (V(I,J+1,T)-V(I,J,T))/DY;\n",
    "        end\n",
    "    end\n",
    "    figure(2),clf\n",
    "    pcolor(XLONG,XLAT,Div), shading interp\n",
    "    colorbar\n",
    "    caxis([-0.0005 0.0005])\n",
    "    axis equal\n",
    "    axis([Xmin Xmax Ymin Ymax])\n",
    "    title(num2str(T))\n",
    "    pause(0.15)\n",
    "end"
   ]
  },
  {
   "cell_type": "code",
   "execution_count": null,
   "metadata": {},
   "outputs": [],
   "source": []
  },
  {
   "cell_type": "markdown",
   "metadata": {},
   "source": [
    " Ejercicio libro capítulo finite differences\n",
    "    \n",
    "    Determine the order of accuracy of the centred discretisations of the advection schemeun+1j−un−1j2∆t+cunj+1−unj−12∆x= 0."
   ]
  }
 ],
 "metadata": {
  "kernelspec": {
   "display_name": "Python 3",
   "language": "python",
   "name": "python3"
  },
  "language_info": {
   "codemirror_mode": {
    "name": "ipython",
    "version": 3
   },
   "file_extension": ".py",
   "mimetype": "text/x-python",
   "name": "python",
   "nbconvert_exporter": "python",
   "pygments_lexer": "ipython3",
   "version": "3.7.6"
  }
 },
 "nbformat": 4,
 "nbformat_minor": 4
}
